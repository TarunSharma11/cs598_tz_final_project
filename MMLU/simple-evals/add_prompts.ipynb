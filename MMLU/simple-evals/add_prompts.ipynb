{
 "cells": [
  {
   "cell_type": "code",
   "execution_count": null,
   "metadata": {},
   "outputs": [],
   "source": [
    "import pandas as pd\n",
    "def format_subject(subject):\n",
    "    l = subject.split(\"_\")\n",
    "    s = \"\"\n",
    "    for entry in l:\n",
    "        s += \" \" + entry\n",
    "    return s.strip()\n",
    "\n",
    "choices = [\"A\", \"B\", \"C\", \"D\"]\n",
    "def format_example(df, subject):\n",
    "    df_cp = df[df['Subject'] == subject]\n",
    "    prompt = \"\"\n",
    "    for idx in df_cp.index:\n",
    "        prompt += \"Question: \\n\" + df_cp.loc[idx, 'Question'] + \"\\n\\nOptions:\"\n",
    "        for j in range(1, 5):\n",
    "            if pd.isna(df_cp.loc[idx, choices[j-1]]) or df_cp.loc[idx, choices[j-1]] == \"\":\n",
    "                break\n",
    "            prompt += \"\\n{}. {}\".format(choices[j-1], df_cp.loc[idx, choices[j-1]])\n",
    "        prompt += \"\\nAnswer:\"\n",
    "        prompt += \" {}\\n\\n\".format(df_cp.loc[idx, 'Answer'])\n",
    "    return prompt\n",
    "\n",
    "def format_choices(row):\n",
    "    prompt = \"Question: \\n\" + row['Question'] + \"\\n\\nOptions:\"\n",
    "    for j in range(1, 5):\n",
    "        if pd.isna(row[choices[j-1]]) or row[choices[j-1]] == \"\":\n",
    "            break\n",
    "        prompt += \"\\n{}. {}\".format(choices[j-1], row[choices[j-1]])\n",
    "    prompt += \"\\nAnswer: \"\n",
    "    return prompt\n",
    "\n",
    "\n",
    "def gen_prompt(val_df, row):\n",
    "    prompt = \"\"\"You are an expert in {} who gives answers to multiple choice questions. Only output the correct option A,B C or D, do not explain or give detailed answers.\n",
    "\n",
    "A few examples are given below. \n",
    "{}\n",
    "\n",
    "Now answer the following question:\n",
    "{}\"\"\".format(format_subject(row['Subject'].strip()), format_example(val_df, row['Subject'].strip()), format_choices(row))\n",
    "    return prompt"
   ]
  },
  {
   "cell_type": "code",
   "execution_count": null,
   "metadata": {},
   "outputs": [],
   "source": [
    "def add_prompt(df):\n",
    "    val_df = pd.read_csv(\"val_data.csv\")\n",
    "    df['prompt'] = df.apply(lambda row: gen_prompt(val_df, row), axis=1)\n",
    "    return df\n",
    "df = add_prompt(df)"
   ]
  }
 ],
 "metadata": {
  "language_info": {
   "name": "python"
  }
 },
 "nbformat": 4,
 "nbformat_minor": 2
}
